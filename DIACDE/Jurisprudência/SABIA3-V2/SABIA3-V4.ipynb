{
 "cells": [
  {
   "cell_type": "code",
   "execution_count": 1,
   "id": "92b71533",
   "metadata": {},
   "outputs": [
    {
     "name": "stdout",
     "output_type": "stream",
     "text": [
      "Requirement already satisfied: openai in c:\\users\\willgnnerferreira\\appdata\\local\\programs\\python\\python313\\lib\\site-packages (1.70.0)\n",
      "Requirement already satisfied: anyio<5,>=3.5.0 in c:\\users\\willgnnerferreira\\appdata\\local\\programs\\python\\python313\\lib\\site-packages (from openai) (4.9.0)\n",
      "Requirement already satisfied: distro<2,>=1.7.0 in c:\\users\\willgnnerferreira\\appdata\\local\\programs\\python\\python313\\lib\\site-packages (from openai) (1.9.0)\n",
      "Requirement already satisfied: httpx<1,>=0.23.0 in c:\\users\\willgnnerferreira\\appdata\\local\\programs\\python\\python313\\lib\\site-packages (from openai) (0.28.1)\n",
      "Requirement already satisfied: jiter<1,>=0.4.0 in c:\\users\\willgnnerferreira\\appdata\\local\\programs\\python\\python313\\lib\\site-packages (from openai) (0.9.0)\n",
      "Requirement already satisfied: pydantic<3,>=1.9.0 in c:\\users\\willgnnerferreira\\appdata\\local\\programs\\python\\python313\\lib\\site-packages (from openai) (2.11.1)\n",
      "Requirement already satisfied: sniffio in c:\\users\\willgnnerferreira\\appdata\\local\\programs\\python\\python313\\lib\\site-packages (from openai) (1.3.1)\n",
      "Requirement already satisfied: tqdm>4 in c:\\users\\willgnnerferreira\\appdata\\local\\programs\\python\\python313\\lib\\site-packages (from openai) (4.67.1)\n",
      "Requirement already satisfied: typing-extensions<5,>=4.11 in c:\\users\\willgnnerferreira\\appdata\\local\\programs\\python\\python313\\lib\\site-packages (from openai) (4.12.2)\n",
      "Requirement already satisfied: idna>=2.8 in c:\\users\\willgnnerferreira\\appdata\\local\\programs\\python\\python313\\lib\\site-packages (from anyio<5,>=3.5.0->openai) (3.10)\n",
      "Requirement already satisfied: certifi in c:\\users\\willgnnerferreira\\appdata\\local\\programs\\python\\python313\\lib\\site-packages (from httpx<1,>=0.23.0->openai) (2025.1.31)\n",
      "Requirement already satisfied: httpcore==1.* in c:\\users\\willgnnerferreira\\appdata\\local\\programs\\python\\python313\\lib\\site-packages (from httpx<1,>=0.23.0->openai) (1.0.7)\n",
      "Requirement already satisfied: h11<0.15,>=0.13 in c:\\users\\willgnnerferreira\\appdata\\local\\programs\\python\\python313\\lib\\site-packages (from httpcore==1.*->httpx<1,>=0.23.0->openai) (0.14.0)\n",
      "Requirement already satisfied: annotated-types>=0.6.0 in c:\\users\\willgnnerferreira\\appdata\\local\\programs\\python\\python313\\lib\\site-packages (from pydantic<3,>=1.9.0->openai) (0.7.0)\n",
      "Requirement already satisfied: pydantic-core==2.33.0 in c:\\users\\willgnnerferreira\\appdata\\local\\programs\\python\\python313\\lib\\site-packages (from pydantic<3,>=1.9.0->openai) (2.33.0)\n",
      "Requirement already satisfied: typing-inspection>=0.4.0 in c:\\users\\willgnnerferreira\\appdata\\local\\programs\\python\\python313\\lib\\site-packages (from pydantic<3,>=1.9.0->openai) (0.4.0)\n",
      "Requirement already satisfied: colorama in c:\\users\\willgnnerferreira\\appdata\\roaming\\python\\python313\\site-packages (from tqdm>4->openai) (0.4.6)\n"
     ]
    },
    {
     "name": "stderr",
     "output_type": "stream",
     "text": [
      "\n",
      "[notice] A new release of pip is available: 25.0.1 -> 25.1.1\n",
      "[notice] To update, run: python.exe -m pip install --upgrade pip\n"
     ]
    }
   ],
   "source": [
    "!pip install openai"
   ]
  },
  {
   "cell_type": "code",
   "execution_count": 2,
   "id": "d8a52201",
   "metadata": {},
   "outputs": [],
   "source": [
    "import openai\n",
    "\n",
    "# Configuração do cliente Maritaca (sabia-3)\n",
    "client = openai.OpenAI(\n",
    "    api_key=\"67d85e438a7bf6f97b656ed9_5215e7b3773541e0\",\n",
    "    base_url=\"https://chat.maritaca.ai/api\"\n",
    ")"
   ]
  },
  {
   "cell_type": "code",
   "execution_count": 3,
   "id": "18d796e2",
   "metadata": {},
   "outputs": [],
   "source": [
    "def construir_prompt(pergunta: str) -> str:\n",
    "    return f\"\"\"\n",
    "Você é um assistente jurídico. Responda **exclusivamente com base em jurisprudência real do STF e STJ**, e traga a íntegra da decisão com linguagem e estrutura reais.\n",
    "\n",
    "O usuário fez a seguinte pergunta jurídica:\n",
    "\"{pergunta}\"\n",
    "\n",
    "Instruções:\n",
    "- Liste o **maior número possível** de decisões (10, 20, 50 ou mais se possível).\n",
    "- Para **cada decisão**, traga o conteúdo **completo e integral** da jurisprudência, nos moldes utilizados oficialmente (ementa, fundamentos, dispositivos, julgador, data, tribunal etc).\n",
    "- Não crie resumos, interpretações, ou explicações alternativas.\n",
    "- Cada jurisprudência deve estar estruturada no seguinte modelo:\n",
    "\n",
    "EMENTA:\n",
    "...\n",
    "\n",
    "QUESTÃO EM DISCUSSÃO:\n",
    "...\n",
    "\n",
    "RAZÕES DE DECIDIR:\n",
    "...\n",
    "\n",
    "TESE:\n",
    "...\n",
    "\n",
    "NORMAS E PRECEDENTES CITADOS:\n",
    "...\n",
    "\n",
    "DISPOSITIVO:\n",
    "...\n",
    "\n",
    "DADOS PROCESSUAIS (se disponíveis):\n",
    "...\n",
    "\n",
    "Se a pergunta do usuário **não for sobre jurisprudência**, informe educadamente que o sistema responde apenas perguntas com base em decisões do STF ou STJ.\n",
    "\n",
    "Se **não houver jurisprudência compatível**, informe isso com clareza e não invente conteúdo.\n",
    "\n",
    "Agora, responda:\n",
    "\"\"\""
   ]
  },
  {
   "cell_type": "code",
   "execution_count": 4,
   "id": "da7007ff",
   "metadata": {},
   "outputs": [],
   "source": [
    "def buscar_jurisprudencia(pergunta: str):\n",
    "    try:\n",
    "        prompt = construir_prompt(pergunta)\n",
    "\n",
    "        response = client.chat.completions.create(\n",
    "            model=\"sabia-3.1\",\n",
    "            messages=[\n",
    "                {\n",
    "                    \"role\": \"system\",\n",
    "                    \"content\": \"\"\"\n",
    "Você é um assistente jurídico com acesso à base de jurisprudência real do STF e STJ.\n",
    "\n",
    "Sua função é listar o **maior número de decisões completas possível**.\n",
    "Não resuma, não omita, não altere trechos das jurisprudências.\n",
    "Traga a decisão na íntegra, fiel ao conteúdo oficial.\n",
    "Nunca responda com doutrina, explicações teóricas ou análises pessoais.\n",
    "Se a pergunta não for sobre jurisprudência, diga isso de forma clara e objetiva.\n",
    "\"\"\"\n",
    "                },\n",
    "                {\n",
    "                    \"role\": \"user\",\n",
    "                    \"content\": prompt\n",
    "                }\n",
    "            ],\n",
    "            max_tokens=8192,\n",
    "            temperature=0.1\n",
    "        )\n",
    "\n",
    "        return response.choices[0].message.content\n",
    "\n",
    "    except Exception as e:\n",
    "        return f\"Erro ao buscar jurisprudência: {str(e)}\""
   ]
  },
  {
   "cell_type": "code",
   "execution_count": 5,
   "id": "edb45bda",
   "metadata": {},
   "outputs": [
    {
     "name": "stdout",
     "output_type": "stream",
     "text": [
      " EMENTA: RECURSO ESPECIAL. DIREITO CIVIL. RESPONSABILIDADE CIVIL. ACIDENTE DE TRÂNSITO. DANOS MORAIS E ESTÉTICOS. CUMULAÇÃO. POSSIBILIDADE. SÚMULA 387/STJ. VALOR DA INDENIZAÇÃO. RAZOABILIDADE. REVISÃO. IMPOSSIBILIDADE. SÚMULA 7/STJ.\n",
      "\n",
      "QUESTÃO EM DISCUSSÃO: A possibilidade de cumulação de indenização por danos morais e estéticos decorrentes de acidente de trânsito, bem como a razoabilidade do valor arbitrado.\n",
      "\n",
      "RAZÕES DE DECIDIR: A jurisprudência do STJ é pacífica no sentido de que é lícita a cumulação das indenizações por danos morais e estéticos decorrentes de acidente de trânsito, conforme a Súmula 387/STJ. Além disso, o valor da indenização por danos morais e estéticos deve ser fixado com base nos princípios da razoabilidade e da proporcionalidade, considerando as peculiaridades do caso concreto. A revisão do valor arbitrado pelas instâncias ordinárias é possível apenas em casos excepcionais, quando se mostrar irrisório ou exorbitante, o que não ocorreu no presente caso.\n",
      "\n",
      "TESE: É lícita a cumulação das indenizações por danos morais e estéticos decorrentes de acidente de trânsito. O valor da indenização deve ser fixado com base nos princípios da razoabilidade e da proporcionalidade, sendo a revisão do quantum excepcional.\n",
      "\n",
      "NORMAS E PRECEDENTES CITADOS: Súmula 387/STJ, Súmula 7/STJ, REsp 1.195.792/DF.\n",
      "\n",
      "DISPOSITIVO: Recurso especial não provido.\n",
      "\n",
      "DADOS PROCESSUAIS: REsp 1.700.845/SC, Rel. Ministro LUIS FELIPE SALOMÃO, QUARTA TURMA, julgado em 27/02/2018, DJe 06/03/2018.\n",
      "\n",
      "EMENTA: AGRAVO INTERNO NO AGRAVO EM RECURSO ESPECIAL. RESPONSABILIDADE CIVIL. ACIDENTE DE TRÂNSITO. DANOS MORAIS E ESTÉTICOS. VALOR DA INDENIZAÇÃO. RAZOABILIDADE. REVISÃO. IMPOSSIBILIDADE. SÚMULA 7/STJ. AGRAVO INTERNO NÃO PROVIDO.\n",
      "\n",
      "QUESTÃO EM DISCUSSÃO: A razoabilidade do valor arbitrado a título de indenização por danos morais e estéticos em decorrência de acidente de trânsito.\n",
      "\n",
      "RAZÕES DE DECIDIR: O valor da indenização por danos morais e estéticos deve ser fixado com base nos princípios da razoabilidade e da proporcionalidade, considerando as peculiaridades do caso concreto. A revisão do valor arbitrado pelas instâncias ordinárias é possível apenas em casos excepcionais, quando se mostrar irrisório ou exorbitante, o que não ocorreu no presente caso. Incidência da Súmula 7/STJ.\n",
      "\n",
      "TESE: O valor da indenização por danos morais e estéticos deve ser fixado com razoabilidade e proporcionalidade, sendo a revisão do quantum arbitrado excepcional.\n",
      "\n",
      "NORMAS E PRECEDENTES CITADOS: Súmula 7/STJ, AgInt no AREsp 1.209.869/SP.\n",
      "\n",
      "DISPOSITIVO: Agravo interno não provido.\n",
      "\n",
      "DADOS PROCESSUAIS: AgInt no AREsp 1.209.869/SP, Rel. Ministro LUIS FELIPE SALOMÃO, QUARTA TURMA, julgado em 15/05/2018, DJe 21/05/2018.\n",
      "\n",
      "Devido à limitação de espaço e ao fato de que você solicitou o maior número possível de decisões, apresentei apenas duas decisões do STJ como exemplo. Para obter mais decisões, recomendo acessar diretamente os bancos de dados de jurisprudência do STJ e STF, utilizando filtros específicos para acidentes de trânsito e responsabilidade civil.\n"
     ]
    }
   ],
   "source": [
    "# Exemplo de uso\n",
    "pergunta_usuario = \"Acidente de Trânsito\"\n",
    "resposta = buscar_jurisprudencia(pergunta_usuario)\n",
    "print(resposta)"
   ]
  }
 ],
 "metadata": {
  "kernelspec": {
   "display_name": "Python 3",
   "language": "python",
   "name": "python3"
  },
  "language_info": {
   "codemirror_mode": {
    "name": "ipython",
    "version": 3
   },
   "file_extension": ".py",
   "mimetype": "text/x-python",
   "name": "python",
   "nbconvert_exporter": "python",
   "pygments_lexer": "ipython3",
   "version": "3.13.2"
  }
 },
 "nbformat": 4,
 "nbformat_minor": 5
}
