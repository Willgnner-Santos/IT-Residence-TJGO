{
 "cells": [
  {
   "cell_type": "code",
   "execution_count": 1,
   "metadata": {},
   "outputs": [
    {
     "name": "stdout",
     "output_type": "stream",
     "text": [
      "Requirement already satisfied: datasets in c:\\users\\willgnnerferreira\\appdata\\local\\programs\\python\\python313\\lib\\site-packages (3.3.0)\n",
      "Requirement already satisfied: filelock in c:\\users\\willgnnerferreira\\appdata\\local\\programs\\python\\python313\\lib\\site-packages (from datasets) (3.13.1)\n",
      "Requirement already satisfied: numpy>=1.17 in c:\\users\\willgnnerferreira\\appdata\\local\\programs\\python\\python313\\lib\\site-packages (from datasets) (2.2.3)\n",
      "Requirement already satisfied: pyarrow>=15.0.0 in c:\\users\\willgnnerferreira\\appdata\\local\\programs\\python\\python313\\lib\\site-packages (from datasets) (19.0.0)\n",
      "Requirement already satisfied: dill<0.3.9,>=0.3.0 in c:\\users\\willgnnerferreira\\appdata\\local\\programs\\python\\python313\\lib\\site-packages (from datasets) (0.3.8)\n",
      "Requirement already satisfied: pandas in c:\\users\\willgnnerferreira\\appdata\\local\\programs\\python\\python313\\lib\\site-packages (from datasets) (2.2.3)\n",
      "Requirement already satisfied: requests>=2.32.2 in c:\\users\\willgnnerferreira\\appdata\\local\\programs\\python\\python313\\lib\\site-packages (from datasets) (2.32.3)\n",
      "Requirement already satisfied: tqdm>=4.66.3 in c:\\users\\willgnnerferreira\\appdata\\local\\programs\\python\\python313\\lib\\site-packages (from datasets) (4.67.1)\n",
      "Requirement already satisfied: xxhash in c:\\users\\willgnnerferreira\\appdata\\local\\programs\\python\\python313\\lib\\site-packages (from datasets) (3.5.0)\n",
      "Requirement already satisfied: multiprocess<0.70.17 in c:\\users\\willgnnerferreira\\appdata\\local\\programs\\python\\python313\\lib\\site-packages (from datasets) (0.70.16)\n",
      "Requirement already satisfied: fsspec<=2024.12.0,>=2023.1.0 in c:\\users\\willgnnerferreira\\appdata\\local\\programs\\python\\python313\\lib\\site-packages (from fsspec[http]<=2024.12.0,>=2023.1.0->datasets) (2024.6.1)\n",
      "Requirement already satisfied: aiohttp in c:\\users\\willgnnerferreira\\appdata\\local\\programs\\python\\python313\\lib\\site-packages (from datasets) (3.11.12)\n",
      "Requirement already satisfied: huggingface-hub>=0.24.0 in c:\\users\\willgnnerferreira\\appdata\\local\\programs\\python\\python313\\lib\\site-packages (from datasets) (0.28.1)\n",
      "Requirement already satisfied: packaging in c:\\users\\willgnnerferreira\\appdata\\roaming\\python\\python313\\site-packages (from datasets) (24.2)\n",
      "Requirement already satisfied: pyyaml>=5.1 in c:\\users\\willgnnerferreira\\appdata\\local\\programs\\python\\python313\\lib\\site-packages (from datasets) (6.0.2)\n",
      "Requirement already satisfied: aiohappyeyeballs>=2.3.0 in c:\\users\\willgnnerferreira\\appdata\\local\\programs\\python\\python313\\lib\\site-packages (from aiohttp->datasets) (2.4.6)\n",
      "Requirement already satisfied: aiosignal>=1.1.2 in c:\\users\\willgnnerferreira\\appdata\\local\\programs\\python\\python313\\lib\\site-packages (from aiohttp->datasets) (1.3.2)\n",
      "Requirement already satisfied: attrs>=17.3.0 in c:\\users\\willgnnerferreira\\appdata\\local\\programs\\python\\python313\\lib\\site-packages (from aiohttp->datasets) (25.1.0)\n",
      "Requirement already satisfied: frozenlist>=1.1.1 in c:\\users\\willgnnerferreira\\appdata\\local\\programs\\python\\python313\\lib\\site-packages (from aiohttp->datasets) (1.5.0)\n",
      "Requirement already satisfied: multidict<7.0,>=4.5 in c:\\users\\willgnnerferreira\\appdata\\local\\programs\\python\\python313\\lib\\site-packages (from aiohttp->datasets) (6.1.0)\n",
      "Requirement already satisfied: propcache>=0.2.0 in c:\\users\\willgnnerferreira\\appdata\\local\\programs\\python\\python313\\lib\\site-packages (from aiohttp->datasets) (0.2.1)\n",
      "Requirement already satisfied: yarl<2.0,>=1.17.0 in c:\\users\\willgnnerferreira\\appdata\\local\\programs\\python\\python313\\lib\\site-packages (from aiohttp->datasets) (1.18.3)\n",
      "Requirement already satisfied: typing-extensions>=3.7.4.3 in c:\\users\\willgnnerferreira\\appdata\\local\\programs\\python\\python313\\lib\\site-packages (from huggingface-hub>=0.24.0->datasets) (4.12.2)\n",
      "Requirement already satisfied: charset-normalizer<4,>=2 in c:\\users\\willgnnerferreira\\appdata\\local\\programs\\python\\python313\\lib\\site-packages (from requests>=2.32.2->datasets) (3.4.1)\n",
      "Requirement already satisfied: idna<4,>=2.5 in c:\\users\\willgnnerferreira\\appdata\\local\\programs\\python\\python313\\lib\\site-packages (from requests>=2.32.2->datasets) (3.10)\n",
      "Requirement already satisfied: urllib3<3,>=1.21.1 in c:\\users\\willgnnerferreira\\appdata\\local\\programs\\python\\python313\\lib\\site-packages (from requests>=2.32.2->datasets) (2.3.0)\n",
      "Requirement already satisfied: certifi>=2017.4.17 in c:\\users\\willgnnerferreira\\appdata\\local\\programs\\python\\python313\\lib\\site-packages (from requests>=2.32.2->datasets) (2025.1.31)\n",
      "Requirement already satisfied: colorama in c:\\users\\willgnnerferreira\\appdata\\roaming\\python\\python313\\site-packages (from tqdm>=4.66.3->datasets) (0.4.6)\n",
      "Requirement already satisfied: python-dateutil>=2.8.2 in c:\\users\\willgnnerferreira\\appdata\\roaming\\python\\python313\\site-packages (from pandas->datasets) (2.9.0.post0)\n",
      "Requirement already satisfied: pytz>=2020.1 in c:\\users\\willgnnerferreira\\appdata\\local\\programs\\python\\python313\\lib\\site-packages (from pandas->datasets) (2025.1)\n",
      "Requirement already satisfied: tzdata>=2022.7 in c:\\users\\willgnnerferreira\\appdata\\local\\programs\\python\\python313\\lib\\site-packages (from pandas->datasets) (2025.1)\n",
      "Requirement already satisfied: six>=1.5 in c:\\users\\willgnnerferreira\\appdata\\roaming\\python\\python313\\site-packages (from python-dateutil>=2.8.2->pandas->datasets) (1.17.0)\n"
     ]
    },
    {
     "name": "stderr",
     "output_type": "stream",
     "text": [
      "'ip' n�o � reconhecido como um comando interno\n",
      "ou externo, um programa oper�vel ou um arquivo em lotes.\n"
     ]
    },
    {
     "name": "stdout",
     "output_type": "stream",
     "text": [
      "Requirement already satisfied: scikit-learn in c:\\users\\willgnnerferreira\\appdata\\local\\programs\\python\\python313\\lib\\site-packages (1.6.1)\n",
      "Requirement already satisfied: numpy>=1.19.5 in c:\\users\\willgnnerferreira\\appdata\\local\\programs\\python\\python313\\lib\\site-packages (from scikit-learn) (2.2.3)\n",
      "Requirement already satisfied: scipy>=1.6.0 in c:\\users\\willgnnerferreira\\appdata\\local\\programs\\python\\python313\\lib\\site-packages (from scikit-learn) (1.15.1)\n",
      "Requirement already satisfied: joblib>=1.2.0 in c:\\users\\willgnnerferreira\\appdata\\local\\programs\\python\\python313\\lib\\site-packages (from scikit-learn) (1.4.2)\n",
      "Requirement already satisfied: threadpoolctl>=3.1.0 in c:\\users\\willgnnerferreira\\appdata\\local\\programs\\python\\python313\\lib\\site-packages (from scikit-learn) (3.5.0)\n",
      "Requirement already satisfied: transformers in c:\\users\\willgnnerferreira\\appdata\\local\\programs\\python\\python313\\lib\\site-packages (4.48.3)\n",
      "Requirement already satisfied: filelock in c:\\users\\willgnnerferreira\\appdata\\local\\programs\\python\\python313\\lib\\site-packages (from transformers) (3.13.1)\n",
      "Requirement already satisfied: huggingface-hub<1.0,>=0.24.0 in c:\\users\\willgnnerferreira\\appdata\\local\\programs\\python\\python313\\lib\\site-packages (from transformers) (0.28.1)\n",
      "Requirement already satisfied: numpy>=1.17 in c:\\users\\willgnnerferreira\\appdata\\local\\programs\\python\\python313\\lib\\site-packages (from transformers) (2.2.3)\n",
      "Requirement already satisfied: packaging>=20.0 in c:\\users\\willgnnerferreira\\appdata\\roaming\\python\\python313\\site-packages (from transformers) (24.2)\n",
      "Requirement already satisfied: pyyaml>=5.1 in c:\\users\\willgnnerferreira\\appdata\\local\\programs\\python\\python313\\lib\\site-packages (from transformers) (6.0.2)\n",
      "Requirement already satisfied: regex!=2019.12.17 in c:\\users\\willgnnerferreira\\appdata\\local\\programs\\python\\python313\\lib\\site-packages (from transformers) (2024.11.6)\n",
      "Requirement already satisfied: requests in c:\\users\\willgnnerferreira\\appdata\\local\\programs\\python\\python313\\lib\\site-packages (from transformers) (2.32.3)\n",
      "Requirement already satisfied: tokenizers<0.22,>=0.21 in c:\\users\\willgnnerferreira\\appdata\\local\\programs\\python\\python313\\lib\\site-packages (from transformers) (0.21.0)\n",
      "Requirement already satisfied: safetensors>=0.4.1 in c:\\users\\willgnnerferreira\\appdata\\local\\programs\\python\\python313\\lib\\site-packages (from transformers) (0.5.2)\n",
      "Requirement already satisfied: tqdm>=4.27 in c:\\users\\willgnnerferreira\\appdata\\local\\programs\\python\\python313\\lib\\site-packages (from transformers) (4.67.1)\n",
      "Requirement already satisfied: fsspec>=2023.5.0 in c:\\users\\willgnnerferreira\\appdata\\local\\programs\\python\\python313\\lib\\site-packages (from huggingface-hub<1.0,>=0.24.0->transformers) (2024.6.1)\n",
      "Requirement already satisfied: typing-extensions>=3.7.4.3 in c:\\users\\willgnnerferreira\\appdata\\local\\programs\\python\\python313\\lib\\site-packages (from huggingface-hub<1.0,>=0.24.0->transformers) (4.12.2)\n",
      "Requirement already satisfied: colorama in c:\\users\\willgnnerferreira\\appdata\\roaming\\python\\python313\\site-packages (from tqdm>=4.27->transformers) (0.4.6)\n",
      "Requirement already satisfied: charset-normalizer<4,>=2 in c:\\users\\willgnnerferreira\\appdata\\local\\programs\\python\\python313\\lib\\site-packages (from requests->transformers) (3.4.1)\n",
      "Requirement already satisfied: idna<4,>=2.5 in c:\\users\\willgnnerferreira\\appdata\\local\\programs\\python\\python313\\lib\\site-packages (from requests->transformers) (3.10)\n",
      "Requirement already satisfied: urllib3<3,>=1.21.1 in c:\\users\\willgnnerferreira\\appdata\\local\\programs\\python\\python313\\lib\\site-packages (from requests->transformers) (2.3.0)\n",
      "Requirement already satisfied: certifi>=2017.4.17 in c:\\users\\willgnnerferreira\\appdata\\local\\programs\\python\\python313\\lib\\site-packages (from requests->transformers) (2025.1.31)\n"
     ]
    }
   ],
   "source": [
    "# datasets: Biblioteca da Hugging Face para carregar e manipular conjuntos de dados\n",
    "# evaluate: Ferramenta para métricas de avaliação em Machine Learning\n",
    "# scikit-learn: Biblioteca de aprendizado de máquina com algoritmos e métricas\n",
    "# transformers: Modelos pré-treinados da Hugging Face para NLP e outras tarefas\n",
    "\n",
    "!pip install datasets \n",
    "!ip install evaluate \n",
    "!pip install scikit-learn \n",
    "!pip install transformers "
   ]
  },
  {
   "cell_type": "code",
   "execution_count": 2,
   "metadata": {},
   "outputs": [],
   "source": [
    "# Importa a biblioteca pandas para manipulação de dados tabulares\n",
    "import pandas as pd\n",
    "\n",
    "# Importa a função train_test_split do sklearn para dividir os dados em conjuntos de treino e teste\n",
    "from sklearn.model_selection import train_test_split\n",
    "\n",
    "# Importa as classes Dataset e DatasetDict da biblioteca datasets para estruturar os dados de forma compatível com a Hugging Face\n",
    "from datasets import Dataset, DatasetDict\n",
    "\n",
    "# Importa a classe AutoTokenizer da biblioteca transformers para tokenização automática do texto\n",
    "from transformers import AutoTokenizer\n",
    "\n",
    "# Importa a classe DataCollatorWithPadding para garantir padding uniforme nos lotes de dados\n",
    "from transformers import DataCollatorWithPadding\n",
    "\n",
    "# Importa a classe AutoModelForSequenceClassification para carregar um modelo pré-treinado para classificação de sequência\n",
    "# Importa a classe TrainingArguments para definir os parâmetros de treinamento do modelo\n",
    "# Importa a classe Trainer para facilitar o treinamento do modelo\n",
    "from transformers import AutoModelForSequenceClassification, TrainingArguments, Trainer\n",
    "\n",
    "# Importa as funções accuracy_score e classification_report do sklearn para avaliar o desempenho do modelo\n",
    "from sklearn.metrics import accuracy_score, classification_report\n",
    "\n",
    "# Importa a biblioteca evaluate para calcular métricas de avaliação de modelos de Machine Learning\n",
    "import evaluate\n",
    "\n",
    "# Importa a biblioteca NumPy para manipulação de arrays numéricos\n",
    "import numpy as np\n",
    "\n",
    "# Importa a classe EarlyStoppingCallback da biblioteca transformers para interromper o treinamento\n",
    "# caso a métrica monitorada não melhore após um número definido de épocas\n",
    "from transformers import EarlyStoppingCallback"
   ]
  },
  {
   "cell_type": "code",
   "execution_count": 3,
   "metadata": {},
   "outputs": [],
   "source": [
    "# Dados\n",
    "data =  pd.read_csv(r\"C:\\Users\\willgnnerferreira\\Documents\\Modelos\\neuralmindbert-large-portuguese-cased\\Dados\\dataset_FINAL.csv\")"
   ]
  },
  {
   "cell_type": "code",
   "execution_count": null,
   "metadata": {},
   "outputs": [
    {
     "name": "stdout",
     "output_type": "stream",
     "text": [
      "(10712, 3) (2678, 3)\n"
     ]
    }
   ],
   "source": [
    "# Usa apenas 50% dos dados totais para reduzir o tempo de processamento\n",
    "data_sampled = data.sample(frac=0.5, random_state=42)  # Seleciona 50% aleatoriamente\n",
    "\n",
    "# Divide o dataset em treino (80%) e teste (20%) dentro dos 40% escolhidos\n",
    "train, test = train_test_split(data_sampled, \n",
    "                               test_size=0.2,  # 20% para teste, 80% para treino\n",
    "                               stratify=data_sampled[\"label\"],  # Mantém a proporção das classes\n",
    "                               random_state=42)\n",
    "\n",
    "# Exibe o tamanho dos novos conjuntos reduzidos\n",
    "print(train.shape, test.shape)"
   ]
  },
  {
   "cell_type": "code",
   "execution_count": 5,
   "metadata": {},
   "outputs": [],
   "source": [
    "# Cria um objeto DatasetDict (estrutura de dados do Hugging Face) para armazenar os conjuntos de treino e teste\n",
    "dataset = DatasetDict({\n",
    "    # Converte o DataFrame de treino para um formato compatível com a biblioteca datasets\n",
    "    \"train\": Dataset.from_pandas(train[[\"text\", \"label\"]], preserve_index=False),\n",
    "    \n",
    "    # Converte o DataFrame de teste para um formato compatível com a biblioteca datasets\n",
    "    \"test\": Dataset.from_pandas(test[[\"text\", \"label\"]], preserve_index=False)\n",
    "})"
   ]
  },
  {
   "cell_type": "code",
   "execution_count": 6,
   "metadata": {},
   "outputs": [],
   "source": [
    "# neuralmind/bert-large-portuguese-cased\n",
    "tokenizer = AutoTokenizer.from_pretrained(\"neuralmind/bert-large-portuguese-cased\", model_max_length=512)"
   ]
  },
  {
   "cell_type": "code",
   "execution_count": 7,
   "metadata": {},
   "outputs": [],
   "source": [
    "# Função de pré-processamento para tokenizar os textos\n",
    "def preprocess_function(examples):\n",
    "    # Aplica o tokenizador ao texto, cortando se ultrapassar o tamanho máximo permitido\n",
    "    return tokenizer(examples[\"text\"], truncation=True)"
   ]
  },
  {
   "cell_type": "code",
   "execution_count": 8,
   "metadata": {},
   "outputs": [
    {
     "data": {
      "application/vnd.jupyter.widget-view+json": {
       "model_id": "ab1d6a910f9840d098b611208ee995af",
       "version_major": 2,
       "version_minor": 0
      },
      "text/plain": [
       "Map:   0%|          | 0/10712 [00:00<?, ? examples/s]"
      ]
     },
     "metadata": {},
     "output_type": "display_data"
    },
    {
     "data": {
      "application/vnd.jupyter.widget-view+json": {
       "model_id": "8c7ad9422d6346e6bd3bee5ca2fa034f",
       "version_major": 2,
       "version_minor": 0
      },
      "text/plain": [
       "Map:   0%|          | 0/2678 [00:00<?, ? examples/s]"
      ]
     },
     "metadata": {},
     "output_type": "display_data"
    }
   ],
   "source": [
    "# Aplica a função de pré-processamento ao dataset, processando os dados em lotes\n",
    "tokenized_dataset = dataset.map(preprocess_function, batched=True)"
   ]
  },
  {
   "cell_type": "code",
   "execution_count": 9,
   "metadata": {},
   "outputs": [],
   "source": [
    "# Cria um Data Collator para adicionar padding automaticamente aos inputs\n",
    "data_collator = DataCollatorWithPadding(tokenizer=tokenizer)"
   ]
  },
  {
   "cell_type": "code",
   "execution_count": 10,
   "metadata": {},
   "outputs": [],
   "source": [
    "# Carrega a métrica de acurácia da biblioteca evaluate\n",
    "accuracy = evaluate.load(\"accuracy\")"
   ]
  },
  {
   "cell_type": "code",
   "execution_count": 11,
   "metadata": {},
   "outputs": [],
   "source": [
    "# Função para calcular métricas de avaliação do modelo\n",
    "def compute_metrics(eval_pred):\n",
    "    # Desempacota as previsões e os rótulos verdadeiros (labels)\n",
    "    predictions, labels = eval_pred\n",
    "\n",
    "    # Obtém o índice da classe com maior probabilidade para cada previsão\n",
    "    predictions = np.argmax(predictions, axis=1)\n",
    "\n",
    "    # Calcula a acurácia comparando as previsões com os rótulos reais\n",
    "    return accuracy.compute(predictions=predictions, references=labels)"
   ]
  },
  {
   "cell_type": "code",
   "execution_count": 12,
   "metadata": {},
   "outputs": [],
   "source": [
    "# Dicionário que mapeia os IDs das classes para seus respectivos rótulos\n",
    "id2label = {\n",
    "    1: \"FATO\",   # Classe 1 representa \"FATO\"\n",
    "    0: \"TESE\",   # Classe 0 representa \"TESE\"\n",
    "    2: \"RUIDO\"   # Classe 2 representa \"RUIDO\"\n",
    "}\n",
    "\n",
    "# Dicionário inverso que mapeia os rótulos das classes para seus respectivos IDs numéricos\n",
    "label2id = {\n",
    "    \"FATO\": 1,   # \"FATO\" é representado pelo ID 1\n",
    "    \"TESE\": 0,   # \"TESE\" é representado pelo ID 0\n",
    "    \"RUIDO\": 2   # \"RUIDO\" é representado pelo ID 2\n",
    "}"
   ]
  },
  {
   "cell_type": "code",
   "execution_count": 13,
   "metadata": {},
   "outputs": [
    {
     "name": "stdout",
     "output_type": "stream",
     "text": [
      "Texto: a requerente é estudante e com isso possui um cartão de crédito universitário do banco do brasil. na tarde do dia 15 de junho de 2022, a autora tentou realizar uma compra por meio de seu cartão de crédito, e a mesma foi negada. ocorre que o cartão estaria funcionando normalmente e havia limite disponível. bastante envergonhada com a sua honra e sua imagem no momento da compra, até porque o único meio de pagamento que esta tinha era o seu cartão de crédito, ligou imediatamente ao banco do brasil para tentar solucionar o problema. a autora foi informada pelo banco que o cartão havia sido suspenso em virtude de uma negativação que estaria constando em seu nome de uma outra empresa financeira, o que a surpreendeu. não acreditando na negativação indevida, a autora imediatamente acessou o aplicativo serasa, do qual para sua surpresa continha a restrição inserida pela empresa avista s/a credito financiamento e investimento, inscrita no cnpj sob o n° 23.862.762/0001-00 conforme print abaixo. ocorre excelência, que a parte autora nunca realizou nenhum tipo de financiamento, empréstimo ou investimento com esta empresa, tendo tido dessa forma, uma negativação totalmente indevida. ademais, como uma simples estudante universitária conseguiria comprovar renda para realizar um financiamento/empréstimo. temendo pela sua honra e totalmente surpresa com aquela dívida em seu nome, imediatamente registrou um boletinho de ocorrência (em anexo). envergonhada e indignada com a situção perante a sua compra, pois a mesma sempre honrou com todos os seus compromissos de forma correta, ademais, esta sequer teve seu nome inscrito nos orgãos de proteção de crédito, sendo esta a primeira vez. resta totalmente demonstrado por meio de seu score o quanto a autora se encontra prejudicada após a inscrição indevida de seu nome nos cadastros de inadimplentes. atualmente a autora se encontra com um score de pontuação 397, do qual nenhuma empresa a aceita como cliente, ressalta-se que o seu score antes da negativação, era excelente, com pontuação de 797. vossa excelência sabe o quão importante é ter um nome sem restrição, até mesmo para poder custear o seu sustento, a situação atual de um brasileiro é a mercê de um crédito parcelado, contando apenas score antes da negativação com o seu bom nome na praça para obtê-lo. dessa forma, fica a enorme indgnação da autora que foi até mesmo empedida de utilizar o seu cartão de crédito do qual sequer teria vinculo algum com esta requerida, restando-se totalmente prejudicada pois era seu único cartão de crédito. como a autora obterá outros meios de créditos em outras instituições, se o seu nome encontra-se com restrição e com fama de má pagadora? e ainda mais, de uma dívida que a autora sequer tinha conhecimento que havia em seu nome. ao jogar o nome da requerida no site reclame aqui, veremos que é comum os fatos aqui narrados, vejamos. ora excelência, não é coincidência a mesma empresa por reiterada vezes inscrever nos órgãos de proteção ao crédito o nome de pessoas que sequer realizaram contrato com a requerida. e não foi diferente com a requerente, pois esta nunca entrou em contato com a requerida, nem mesmo assinou contratos para realização de emprestimos ou financiamentos. em virtude do ocorrido, a requerente experimentou situação constrangedora, angustiante, tendo sua moral abalada, face à indevida inscrição de seu nome no cadastro de inadimplentes com seus reflexos prejudiciais, sendo suficiente a ensejar danos morais e a exclusão do cadastro de inadimplentes de forma urgente. ii –\n",
      "Label ID: 1 -> Classe: FATO\n",
      "--------------------------------------------------\n",
      "Texto: no início do ano de 2019, um vendedor da requerida oi s/a ofereceu à requerente serviços de internet banda larga, tendo resolvido, na ocasião, contratá-los. poucos dias depois, a empresa requerida enviou um funcionário à residência da requerente portando um papel em que constava um número de telefone, sob a alegação de que para a concessão dos serviços de internet, seria necessária a contratação prévia de uma linha telefônica fixa. iniciou-se aí a primeira lesão aos direitos consumeristas da requerida, uma vez que a venda casada é expressamente proibida pelo código de defesa do consumidor - cdc (art. 39, i), constituindo inclusive crime contra as relações de consumo (art. 5º, ii, da lei n.º 8.137/90). ariéte cândida advocacia e consultoria av. t-7 c/ av. mutirão, nº 371, ed. lourenço office, setor oeste, goiânia-go arietecandida@gmail.com (62) 999 787 183 como a casa da requerente já contava com algumas instalações necessárias para a habilitação de uma linha telefônica, o prestador de serviços da requerida alegou que em até 05 dias o telefone estaria devidamente ativo e instalado, e que voltaria dentro deste período para verificação. ocorre que a linha nunca foi ativada, e o prestador de serviços nunca mais retornou à residência da requerente. entretanto, a requerente começou a receber as contas de cobrança em sua residência, de um serviço que nunca fora ativado. e ainda, mesmo a empresa tento alegado que só após a ativação do telefone a oi retornaria para ativação da internet, a requerente começou a receber cobranças também pelo serviço de internet. durante muito tempo a requerente informou à empresa que o serviço não fora instalado, e que as cobranças estavam chegando, tendo pleiteado o cancelamento por inúmeras vezes, sem sucesso. algumas contas foram baixadas do sistema após a reclamação, mas, logo novas contas eram geradas (doc. 07). em consequência, a requerente passou a receber inúmeras cartas e ligações de cobranças da requerida, além de cartas de comunicação de inscrição de seu nome nos órgãos de proteção ao crédito (doc. 08). certa feita, enquanto tentava resolver o problema com a empresa requerida, a requerente comentou, na academia de ginástica de seu bairro, ariéte cândida advocacia e consultoria av. t-7 c/ av. mutirão, nº 371, ed. lourenço office, setor oeste, goiânia-go arietecandida@gmail.com (62) 999 787 183 os transtornos que suportava com a péssima prestação de serviços da empresa oi s/a. incontinenti, uma senhora lhe abordou questionando se a requerente atendia pelo nome de edinalda helena. após confirmação, referida senhora, de nome rosilane da silva rodrigues ferreira, residente no mesmo bairro da requerente (r. aimorés, qd. 19, lt. 12, residencial petrópolis, goiânia), relatou que havia uma linha telefônica em sua casa de titularidade de edinalda helena camargo da silva castro, ou seja, em nome da requerente. a sra. rosilene relatou então, que possuía uma linha telefônica em casa, desativada, que voltou a funcionar. como ela havia requerido o cancelamento há tempos de tal linha, que estava em nome de seu filho, telefonou para a oi s/a pra saber o porquê d o telefone estar ativo, ocasião em que o atendente lhe disse que aquela linha telefônica não era do seu filho, e que estava em nome de edinalda. após fazer questionamentos à telefonista, foi informada de não poderiam lhe ser passadas maiores informações acerca da linha telefônica, pois estava em nome de outrem. ou seja, a empresa oi, ora requerida, ativou a linha na casa de um terceiro. a requerente tentou por várias vezes resolver o problema junto a oi, tendo inclusive relatado o problema para o procon (doc. 09). alguns dias após ir ao procon, dois prestadores de serviços da requerida foram à residência da requerente alegando que iriam à casa da ariéte cândida advocacia e consultoria av. t-7 c/ av. mutirão, nº 371, ed. lourenço office, setor oeste, goiânia-go arietecandida@gmail.com (62) 999 787 183 sra. rosilene (mas sequer pediram o endereço da mesma), para resolver o problema. mas nunca o fizeram. a requerente segue com as contas em aberto em seu nome, e com o seu nome inscrito nos órgãos de proteção ao crédito spc/serasa (docs. 05 e 06), e os cancelamentos solicitados nunca foram feitos. além dos transtornos já relatados, a requerente sofre com problemas de ordem pessoal por conta destas negativações. seu pai está com câncer e as negativações atrapalharam o processo de hipoteca da residência de sua residência, que objetivava custear o tratamento da doença do seu genitor. ressalta-se que a requerida está ciente de toda a situação, tendo inclusive reconhecido o erro nas instalações, conforme pode ser comprovado na gravação das ligações dos atendimentos, solicitada pela requerente (doc. 10). restou clarividente, portanto, que a requerente empreendeu todas as tentativas possíveis para resolver o problema extrajudicialmente, não obtendo sucesso, diante do descaso e péssima prestação de serviços da requerida, não lhe restando, assim, outra alternativa senão procurar o respaldo do poder judiciário. 2 - dos fundamentos jurídicos do pedido 2.1 – da inexistência do débito ariéte cândida advocacia e consultoria av. t-7 c/ av. mutirão, nº 371, ed. lourenço office, setor oeste, goiânia-go arietecandida@gmail.com (62) 999 787 183 é cabível (inclusive no juizado especial) a promoção de ação declaratória de inexistência de débito, conforme (ac. 1.ª seção do stj, no cc 52.431-pb, rel. min. luiz fux, j. 22-03-06, dju 17-04-06, p. 163). portanto, indispensável apresentar os fatos ao pronunciamento do judiciário, para que seja declarada, de forma expressa, a inexistência do débito, conforme estabelece a norma contida no artigo 4º inciso i, do código de processo civil brasileiro: art. 4º. i – o interesse do autor pode limitar-se à declaração: i – da existência ou inexistência de relação jurídica; (…) está claro que tal querela está totalmente tutelada pelo código de defesa do consumidor, conforme conceitos dispostos no próprio código: art. 2º consumidor é toda pessoa física ou jurídica que adquire ou utiliza produto ou serviço como destinatário final. art. 3º fornecedor é toda pessoa física ou jurídica, pública ou privada, nacional ou estrangeira, bem como os entes despersonalizados, que desenvolvem atividades de produção, montagem, criação, construção, transformação, importação, exportação, distribuição ou comercialização de produtos ou prestações de serviços. 2.2 – do dano moral a constituição federal de 1988, no art. 5º, inciso x, assegura o direito de indenização pelo dano moral decorrente de violação à intimidade, à vida privada, à honra e à imagem das pessoas. a pretensão da promovente também está sob a proteção do código civil e do código do consumidor ariéte cândida advocacia e consultoria av. t-7 c/ av. mutirão, nº 371, ed. lourenço office, setor oeste, goiânia-go arietecandida@gmail.com (62) 999 787 183 brasileiro: código civil – art. 186. aquele que, por ação ou omissão voluntária, negligência ou imprudência, violar direito e causar dano a outrem, ainda que exclusivamente moral, comete ato ilícito. código civil – art. 927. aquele que, por ato ilícito (art. 186 e 187), causar dano a outrem, fica obrigado a repará-lo. código de defesa do consumidor – art. 6°, vi. são direitos básicos do consumidor: (…) a efetiva prevenção e reparação de danos patrimoniais e morais, individuais, coletivos e difusos. código de defesa do consumidor – art. 35. se o fornecedor de produtos ou serviços recusar cumprimento à oferta, apresentação ou publicidade, o consumidor poderá, alternativamente e à sua livre escolha: (…) iii – rescindir o contrato, com direito à restituição de quantia eventualmente antecipada, monetariamente atualizada, e a perdas e danos. o dano moral é pleiteado nesta ação em virtude da inserção do nome da consumidora no cadastro do serviço de proteção ao crédito – spc/serasa. devemos ressaltar que no presente caso estamos diante de um dano moral puro, que é aquele que atinge diretamente a dignidade do consumidor; o código de defesa do consumidor tem como política de aplicação das relações de consumo a dignidade da pessoa humana, assim sendo, basta o nexo causal, a infração da lei para a caracterização do dano moral puro. ariéte cândida advocacia e consultoria av. t-7 c/ av. mutirão, nº 371, ed. lourenço office, setor oeste, goiânia-go arietecandida@gmail.com (62) 999 787 183 a inscrição indevida do consumidor em um banco de dados de proteção ao crédito gera a obrigação de indenização por danos morais. o dano moral puro não carece de prova do real reflexo patrimonial, é suficiente, para tanto, apenas a comprovação do ato ilícito e do nexo de causalidade, bem como presumidos os efeitos nefastos na reputação do ofendido. a prova de dano moral nestes casos se satisfaz com a existência da conduta irregular. não sendo necessário que o consumidor, por exemplo, pegue uma certidão constando a restrição ao crédito sofrida. a indenização por dano moral não tem finalidade de obtenção de lucro ou de qualquer vantagem financeira, tendo por objetivo, isto sim, o de reparar de forma sensata os danos morais efetivamente ocasionados pelo ofensor. não podendo deixar de enfatizar que a condenação do promovido ao pagamento de indenização por danos morais face o constrangimento causado a consumidora, em virtude de suas condutas irregulares e/ou ilegais, é de extrema importância para conferir-lhes o efeito pedagógico e desencorajamento a prática de novos ataques semelhantes aos demais consumidores brasileiros. além disso, tal indenização deve ser corrigida monetariamente até a data efetiva do pagamento, com os juros legais a partir da citação do promovido. o dano moral implica na violação dos direitos da personalidade. ressalte-se que o dano moral não deve ser considerado como sendo um sentimento negativo de dor, angústia, vergonha, humilhação etc., essas ariéte cândida advocacia e consultoria av. t-7 c/ av. mutirão, nº 371, ed. lourenço office, setor oeste, goiânia-go arietecandida@gmail.com (62) 999 787 183 são, em verdade, as consequências geradas no consumidor. o entendimento jurisprudencial é pacífico no sentido de que a o dano moral deve ser reparado mediante indenização. 2.3 – da inversão do ônus da prova para que não paire dúvidas sobre a irregularidade cometida pela instituição financeira demandada, é necessária a inversão do ônus da prova, nos termos do inciso viii do artigo 6° do código de proteção e defesa do consumidor. assim sendo, caso os documentos apresentados não sejam suficientemente esclarecedores, que vossa excelência se digne em determinar a inversão do ônus da prova, por ser um mecanismo necessário e hábil para que se concretize a justiça. iii - da antecipação de tutela nos termos do art. 300 do ncpc, in verbis, o juiz poderá conceder a antecipação dos efeitos da tutela em razão da existência de elementos que evidencie a probabilidade\n",
      "Label ID: 1 -> Classe: FATO\n",
      "--------------------------------------------------\n",
      "Texto: das suscitantes, e do perigo de ocorrer dano ou o risco ao resultado útil do processo, bem como a ausência de perigo de irreversibilidade dos efeitos da decisão, além de restar demonstrada a probabilidade de provimento do recurso, nos termos exigidos pelos arts. 294, parágrafo único 300, § 3º; 932 ii, 955, e 995 parágrafo único, todos do código de processo civil, os quais dispõem o seguinte: ar t . 3 0 0 . a t u t e l a d e u r g ê n c i a s e r á c o n c e d i d a q u a n d o h o u v e r e l e m e n t o s q u e e vi d e n c i e m a p r o b a b i l i d a d e d o d i r e i t o e o p e r i g o d e d a n o o u o r i s c o a o r e s u l t a d o ú t i l d o p r o c e s s o . ( … ) § 3 º a t u t e l a d e u r g ê n c i a d e n a t u r e z a a n t e c i p a d a n ã o s e r á c o n c e d i d a q u a n d o h o u ve r p e r i g o d e i r r e v e r s i b i l i d a d e d o s e f e i t o s d a d e c i s ã o ( d e s t a c a m o s ) ar t . 2 9 4 . a t u t e l a p r o vi s ó r i a p o d e f u n d a m e n t a r - s e e m u r g ê n c i a o u e vi d ê n c i a . 21/32 pa r á g r a f o ú n i c o . a t u t e l a p r o vi s ó r i a d e u r g ê n c i a , c a u t e l a r o u a n t e c i p a d a , p o d e s e r c o n c e d i d a e m c a r á t e r a n t e c e d e n t e o u i n c i d e n t a l . ( d e s t a c a m o s ) ar t . 9 3 2 . i n c u m b e a o r e l a t o r : ( . . . ) i i - a p r e c i a r o p e d i d o d e t u t e l a p r o vi s ó r i a n o s r e c u r s o s e n o s p r o c e s s o s d e c o m p e t ê n c i a o r i g i n á r i a d o t r i b u n a l ; ( d e s t a c a m o s ) ar t . 9 5 5 . o r e l a t o r p o d e r á , d e o f í c i o o u a r e q u e r i m e n t o d e q u a l q u e r d a s p a r t e s , d e t e r m i n a r , q u a n d o o c o n f l i t o f o r p o s i t i v o , o s o b r e s t a m e n t o d o p r o c e s s o e , n e s s e c a s o , b e m c o m o n o d e c o n f l i t o n e g a t i v o , d e s i g n a r á u m d o s ju í z e s p a r a r e s o l ve r , e m c a r á t e r p r o vi s ó r i o , a s m e d i d a s u r g e n t e s . ( d e s t a c a m o s ) ar t . 9 9 5 . o s r e c u r s o s n ã o i m p e d e m a e f i c á c i a d a d e c i s ã o , s a l vo d i s p o s i ç ã o l e g a l o u d e c i s ã o ju d i c i a l e m s e n t i d o d i v e r s o . pa r á g r a f o ú n i c o . a e f i c á c i a d a d e c i s ã o r e c o r r i d a p o d e r á s e r s u s p e n s a p o r d e c i s ã o d o r e l a t o r , s e d a i m e d i a t a p r o d u ç ã o d e s e u s e f e i t o s h o u ve r r i s c o d e d a n o g r a ve , d e d i f í c i l o u i m p o s s í ve l r e p a r a ç ã o , e f i c a r d e m o n s t r a d a a p r o b a b i l i d a d e d e p r o vi m e n t o d o r e c u r s o . ( d e s t a c a m o s ) 65. a situação posta nestes autos, se apresenta uma urgência inquestionável, vez que em data recente, o julgador de piso determinou o cumprimento da equivocada liminar outrora deferida, mesmo não havendo o transito em julgado da matéria posta nos agravos de instrumento, em data recente, quer seja em 07/07/2020. doc 000 – mov. 65/ reintegração de posse) 22/32 66. por sua vez, o julgador deixou de apreciar a comunicação acerca da decisão oriunda do stj, que fora juntada nos autos de piso doc 000 – mov. 63 e 64/ reintegração de posse, antes mesmo da decisão que determinou o cumprimento da liminar deferida. 67. assim, pleiteou-se o chamamento do feito a ordem, com a apreciação da questão posta, e intransponível, todavia, a recalcitrância do julgador singelo em reconhecer a sua incompetência, poderá trazer prejuízos consideráveis, ante a possibilidade de alteração da posse das propriedades rurais. 68. assim mais do que caracterizada está a urgência da medida pleiteada. 69. no presente caso, em acurado exame das razões apresentadas pelos suscitantes, restam cristalinos as razões e os motivos concomitantes autorizadores do imediato deferimento da antecipação da tutela de urgência para proteger direito das suscitantes. 70. à vista do exposto, é concreta a urgência do caso, já que está em vias de ocorrer a reintegração de posse do bem “(imóvel rural) primordial ao funcionamento do grupo recuperando e 23/32 também à implementação e cumprimento do plano recuperacional que vier a ser aprovado. 71. em tempo, é relevante a fundamentação na medida em que as suscitantes demonstraram a essencialidade do bem para a continuidade de sua atividade empresarial, máquinas agrícolas sem as quais se encerrariam as atividades e adviria consequente falência, na contramão do espírito do art. 47 da lei nº 11.101/2005. 72. a probabilidade é inequívoco, uma vez que a própria lei nº 11.101 de 2005 é enfática ao vedar de forma expressa a retirada de bens essenciais à atividade empresarial da devedora pelo menos durante o prazo de stay period, a qual fora estendido até a realização da assembleia geral de credores, até mesmo em situações a qual não esteja sujeito aos efeitos da recuperação judicial, nos termos do §3º do seu art. 49. 73. soma-se ainda que a situação encontra-  se com direito mais que provável, é certo, vez que o stj já reconheceu em relação da rj do grupo cotril a competência para todas as questões atinentes a constrição que possa vir a sofrer 74. desta feita, acaso seja mantida a decisão ora guerreada, esta resultará em lesão grave e de difícil reparação não só para as suscitantes, mas como para todos os seus credores. 75. ao extrapolar a competência do juízo recuperacional (21ª vara cível de goiânia/goiás), e contrariar a lei de recupercional, além de já estar a matéria decidida pelo superior tribunal de justiça no conflito de competência conflito de competência nº 170920 - go, o juízo da 01ª vara cível de mara rosa/go expõe aos suscitantes e a todo o 24/32 grupo recuperando a dano grave de difícil ou impossível, extrapolando as deliberações do juízo recuperacional absolutamente competente. 76. repita-se, sequer há de se falar em probabilidade de êxito no presente recurso, pois ao contrario o direito já se encontra reconhecido, a questão já superada, eis que a matéria em comento, qual seja a competência do juízo da 21ª vara cível da comarca de goiânia (juízo recuperacional) já passou pelo crivo do superior tribunal de justiça, quanto tange a competência, em caso idêntico de matéria aqui suscitada e extensível a todas as demais demandas. 77. não podemos nos olvidar, que conforme entendimento emanado pelo superior tibunal de justiça, independentemente da submissão do crédito ao plano recuperacional é certo que os atos de constrição ou alienação que comprometam o patrimônio da empresa em recuperação deve ser praticado pelo juízo universal e isto porque a prática de atos que reduzam o patrimônio da empresa afetará significativamente o sucesso da recuperação judicial, subjugando os princípios da preservação da empresa e da função social, princípios esses enaltecidos pela atual legislação recuperacional. 78. repisa-se a exaustão, que quaisquer atos judiciais que envolvam os patrimônio do grupo recuperando, devem ser realizados pelo juízo universal. 79. destaca-se que, é pacífica a jurisprudência no âmbito do superior tribunal de justiça no sentido de que devem submeter-se ao crivo do juízo universal os atos de constrição/alienação voltados contra o patrimônio social das sociedades empresárias em processo de recuperação judicial, em 25/32 homenagem ao princípio da preservação da empresa, de igual maneira, colaciona-se: p r o c e s s o c i v i l . a g r a v o r e g i m e n t a l . c o n f l i t o p o s i t i v o d e c o m p e t ê n c i a . j u í z o s d e d i r e i t o . r e c u p e r a ç ã o j u d i c i a l . a ç ã o d e b u s c a e a p r e e n s ã o . a r t . 4 9 , § 3 º , d a l e i n . 1 1 . 1 0 1 / 2 0 0 5 . b e n s e s s e n c i ai s às at i v i d ad e s e c o n ô m i c o - p r o d u t i v a s . p e r m an ê n c i a c o m a e m p r e s a r e c u p e r an d a. ar t . 6 º , § 4 º , d a l e i n . 1 1 . 1 0 1 / 2 0 0 5 . r e t o m a d a d a s e x e c u ç õ e s i n d i v i d u a i s . a u s ê n c i a d e r a z o a b i l i d a d e . c o m p e t ê n c i a d o j u í z o d a r e c u p e r a ç ã o j u d i c i a l . 1 . c o m a e d i ç ã o d a l e i n . 1 1 . 1 0 1 , d e 2 0 0 5 , r e s p e i t a d a s a s e s p e c i f i c i d a d e s d a f a l ê n c i a e d a r e c u p e r a ç ã o j u d i c i a l , é c o m p e t e n t e o r e s p e c t i v o j u í z o p a r a p r o s s e g u i m e n t o d o s a t o s d e e x e c u ç ã o , t a i s c o m o a l i e n a ç ã o d e a t i v o s e p a g a m e n t o d e c r e d o r e s , q u e e n v o l v a m c r é d i t o s a p u r a d o s e m o u t r o s ó r g ã o s j u d i c i a i s , a i n d a q u e t e n h a o c o r r i d o a c o n s t r i ç ã o d e b e n s d o d e v e d o r . 2 . ap l i c a - s e a r e s s a l v a f i n a l c o n t i d a n o § 3 º d o a r t . 4 9 d a l e i n . 1 1 . 1 0 1 / 2 0 0 5 p a r a e f e i t o d e p e r m a n ê n c i a , c o m a e m p r e s a r e c u p e r a n d a , d o s b e n s o b j e t o d a a ç ã o d e b u s c a e a p r e e n s ã o , q u a n d o s e d e s t i n a r e m a o r e g u l a r d e s e n v o l v i m e n t o d a s e s s e n c i a i s a t i v i d a d e s e c o n ô m i c o p r o d u t i v a s . 3 . n o n o r m a l e s t á g i o d a r e c u p e r a ç ã o j u d i c i a l , n ã o é r a z o á v e l a r e t o m a d a d a s e x e c u ç õ e s i n d i v i d u a i s a p ó s o s i m p l e s d e c u r s o d o p r a z o l e g a l d e 1 8 0 d i a s d e q u e t r a t a o a r t . 6 º , § 4 º , d a l e i n . 1 1 . 1 0 1 / 2 0 0 5 . 4 . a g r a v o r e g i m e n t a l d e s p r o v i d o . ( a g r g n o c c 1 2 7 . 6 2 9 / m t , r e l . m i n i s t r o j o ã o o t á v i o d e n o r o n h a , s e g u n d a s e ç ã o , j u l g a d o e m 2 3 / 0 4 / 2 0 1 4 , d j e 2 5 / 0 4 / 2 0 1 4 ) c o n f l i t o p o s i t i v o d e c o m p e t ê n c i a . j u í z o d a r e c u p e r aç ã o j u d i c i al . l e i n . 1 1 . 1 0 1 / 0 5 . a ç ã o d e b u s c a e a p r e e n s ã o . c r é d i t o s g a r a n t i d o s f i d u c i a r i a m e n t e . d i s c u s s ã o n a o r i g e m a c e r c a d a h i g i d e z d a g a r a n t i a s o b r e o s b e n s f u n g í v e i s e c o n s u m í v e i s q u e c o m p õ e o s e s t o q u e s d a e m p r e s a ( á l c o o l ) . c r é d i t o s q u e e s t ã o i n c l u í d o s n o p l a n o d e r e c u p e r a ç ã o a p r o v a d o . n e c e s s i d ad e d e p r e s e r v aç ão d a at i v i d ad e e c o n ô m i c a. c o m p e t ê n c i a d o j u í z o u n i v e r s al . 26/32 c o n f l i t o d e c o m p e t ê n c i a j u l g ad o p r o c e d e n t e p ar a d e c l ar a r c o m p e t e n t e o j u í z o d a 3 ª v ar a c í v e l d a c o m ar c a d o r e c i f e , s u s c i t ad o . ( c c 1 0 5 . 3 1 5 / p e , r e l . m i n i s t r o p a u l o d e t a r s o s a n s e v e r i n o , s e g u n d a s e ç ã o , j u l g a d o e m 2 2 / 0 9 / 2 0 1 0 , d j e 0 5 / 1 0 / 2 0 1 0 ) 80. vale dizer, não se pode retirar do juízo da recuperação a mínima possibilidade de verificação da regularidade, da essencialidade bem como da pertinência do esvaziamento do grupo recuperando, sob pena de se inviabilizar seu soerguimento. 81. dessarte, sob o prisma do princípio da preservação da empresa, o juízo de valor acerca da essencialidade ou não de algum bem ao funcionamento do grupo recuperando, deve ser realizada pelo juízo da recuperação judicial, que tem acesso a todas as informações sobre a real situação dos bens da empresa recuperanda. 82. assim, resta demonstrado que a determinação do juízo suscitado da 01ª vara cível da comarca de mara rosa/go, de reintegração de posse do imóvel rural dos suscitantes contraria a soberania do juízo universal da recuperação judicial, único competente para decidir sobre questões que afetam seu patrimônio. 83. desse modo, resta inequívoca a necessidade de suspensão da liminar reintegratória em comento, uma vez que, acaso seja cumprida será impossível a continuidade das atividades empresariais dos suscitantes, violando frontalmente a ordem judicial emanada pelo juízo da 21ª vara cível da comarca de goiânia/go e o comando legal previsto no §3º do art. 49 da lei nº 11.101 de 2005. 27/32 84. restam, portanto, nos termos dos arts. 294, parágrafo único 300, § 3º; 932 ii, 955, e 995 parágrafo único, do código de processo civil, pelas razões apresentadas pelos suscitantes em especial a decisão oriunda do superior tribunal de justiça, resta cristalino o preenchimento dos requisitos frente as razões e os motivos concomitantes autorizadores do imediato deferimento da antecipação da tutela recursal visando proteger a posse ante a proteção recuperacional e a incompetência do juízo suscitante da 01ª vara cível – mara rosa /go, que determinou equivocadamente a imissão de posse do imóvel rural (fazenda) ao banco cnh, que se mostra essencial à continuidade das atividades empresarial dos suscitantes. v.\n",
      "Label ID: 0 -> Classe: TESE\n",
      "--------------------------------------------------\n",
      "Texto: aos 08 dias de abril de 2021, a exequente concedeu abertura de crédito através de contrato de cédula de crédito bancária a favor dos executados para a obtenção de cartão de crédito. o contrato de cédula foi entabulado sob o n°41877-5, contendo todas as especificações da operação, foi devidamente celebrado, onde a exequente concedeu crédito à vista aos executados no importe de r$5.000,00 (cinco mil reais). o aludido termo firmado entre as partes reconhece que em caso de não pagamento na data do vencimento implicará em mora, ficando o débito sujeito a incidência de juros, de acordo com a cláusula 10ª, do instrumento de crédito. ocorre excelência, que os executados não honraram com o pagamento da prestação contratada até a presente data, ou seja, os mesmos encontram-se inadimplentes com a totalidade do débito. em que pesem os esforços da exequente na tentativa de um acordo amigável, os executados sempre se esquivam do pagamento, descumprindo, assim a obrigação ora avençada entre as partes. assim, como não poderia deixar de ser, a exequente amarga o prejuízo causado pela inadimplência dos executados, restando, assim, unicamente a possibilidade de ressarcimento através da propositura da presente demanda. do débito a exequente é credora dos executados da importância líquida, certa e exigível de r$4.708,59 (quatro mil setecentos e oito reais e cinquenta e nove centavos), conforme tabela demonstrativa do débito atualizado pelo índice inpc – ibge, e demonstrativo do débito anexo. correção monetária - cálculo obtido no site tjdft-tribunal de justiça do distrito federal e dos territórios (www.tjdft.jus.br ) atualizado até: 24/05/2022 juros incidentes: a partir do(s) valor(es) devido(s) percentual de juros: 1,00% índice: inpc valores devidos data do valor devido valor devido fator cm valor corrigido juros % juros r$ corrigido+juros r$ 06/10/2021 3.980,98 1,07369004 4.274,33 8,00% 341,94 4.616,27 subtotal 4.616,27 acessórios r$ multa - percentual: 2,00% 92,32 subtotal 4.708,59 total geral 4.708,59 iii -\n",
      "Label ID: 1 -> Classe: FATO\n",
      "--------------------------------------------------\n",
      "Texto: o rogo da requerente encontra amparo nos artigos 389, 186 e 927 do código civil, que assim preveem: art. 186. aquele que, por ação ou omissão voluntária, negligência ou imprudência, violar direito e causar dano a outrem, ainda que exclusivamente moral, comete ato ilícito. [...] art. 389. não cumprida a obrigação, responde o devedor por perdas e danos, mais juros e atualização monetária segundo índices oficiais regularmente estabelecidos, e honorários de advogado. [...] art. 927. aquele que, por ato ilícito (arts. 186 e 187), causar dano a outrem, fica obrigado a repará-lo. (grifou-se) diante todos os fatos e documentos apresentados nesta oportunidade, tem-se evidente o direito da requerente ao ressarcimento da taxa de cancelamento, uma vez que o serviço foi devidamente prestado e a requerida simplesmente optou por não honrar com o contratado. iv –\n",
      "Label ID: 0 -> Classe: TESE\n",
      "--------------------------------------------------\n"
     ]
    }
   ],
   "source": [
    "# Mostrar algumas amostras do dataset com rótulos traduzidos\n",
    "for i in range(5):  # Exibe 5 exemplos\n",
    "    text = dataset[\"train\"][i][\"text\"]\n",
    "    label_id = dataset[\"train\"][i][\"label\"]\n",
    "    label_name = id2label.get(label_id, \"Desconhecido\")  # Converte ID para nome\n",
    "    \n",
    "    print(f\"Texto: {text}\\nLabel ID: {label_id} -> Classe: {label_name}\\n{'-'*50}\")"
   ]
  },
  {
   "cell_type": "code",
   "execution_count": 14,
   "metadata": {},
   "outputs": [
    {
     "name": "stderr",
     "output_type": "stream",
     "text": [
      "Some weights of BertForSequenceClassification were not initialized from the model checkpoint at neuralmind/bert-large-portuguese-cased and are newly initialized: ['classifier.bias', 'classifier.weight']\n",
      "You should probably TRAIN this model on a down-stream task to be able to use it for predictions and inference.\n"
     ]
    }
   ],
   "source": [
    "# Carrega o modelo pré-treinado BERT para classificação de sequência\n",
    "model = AutoModelForSequenceClassification.from_pretrained(\n",
    "    \"neuralmind/bert-large-portuguese-cased\",  # Nome do modelo pré-treinado em português\n",
    "    num_labels=3,  # Número de classes na classificação (FATO, TESE, RUIDO)\n",
    "    id2label=id2label,  # Dicionário que mapeia IDs para nomes das classes\n",
    "    label2id=label2id   # Dicionário que mapeia nomes das classes para IDs\n",
    ")"
   ]
  },
  {
   "cell_type": "code",
   "execution_count": 15,
   "metadata": {},
   "outputs": [
    {
     "data": {
      "text/html": [
       "\n",
       "    <div>\n",
       "      \n",
       "      <progress value='13390' max='13390' style='width:300px; height:20px; vertical-align: middle;'></progress>\n",
       "      [13390/13390 104:07:01, Epoch 10/10]\n",
       "    </div>\n",
       "    <table border=\"1\" class=\"dataframe\">\n",
       "  <thead>\n",
       " <tr style=\"text-align: left;\">\n",
       "      <th>Epoch</th>\n",
       "      <th>Training Loss</th>\n",
       "      <th>Validation Loss</th>\n",
       "      <th>Accuracy</th>\n",
       "    </tr>\n",
       "  </thead>\n",
       "  <tbody>\n",
       "    <tr>\n",
       "      <td>1</td>\n",
       "      <td>0.119400</td>\n",
       "      <td>0.121628</td>\n",
       "      <td>0.976848</td>\n",
       "    </tr>\n",
       "    <tr>\n",
       "      <td>2</td>\n",
       "      <td>0.060900</td>\n",
       "      <td>0.130432</td>\n",
       "      <td>0.978342</td>\n",
       "    </tr>\n",
       "    <tr>\n",
       "      <td>3</td>\n",
       "      <td>0.032300</td>\n",
       "      <td>0.119317</td>\n",
       "      <td>0.978715</td>\n",
       "    </tr>\n",
       "    <tr>\n",
       "      <td>4</td>\n",
       "      <td>0.013300</td>\n",
       "      <td>0.098102</td>\n",
       "      <td>0.986557</td>\n",
       "    </tr>\n",
       "    <tr>\n",
       "      <td>5</td>\n",
       "      <td>0.010500</td>\n",
       "      <td>0.142417</td>\n",
       "      <td>0.982823</td>\n",
       "    </tr>\n",
       "    <tr>\n",
       "      <td>6</td>\n",
       "      <td>0.009700</td>\n",
       "      <td>0.129227</td>\n",
       "      <td>0.983943</td>\n",
       "    </tr>\n",
       "    <tr>\n",
       "      <td>7</td>\n",
       "      <td>0.005600</td>\n",
       "      <td>0.125223</td>\n",
       "      <td>0.985437</td>\n",
       "    </tr>\n",
       "    <tr>\n",
       "      <td>8</td>\n",
       "      <td>0.000000</td>\n",
       "      <td>0.133466</td>\n",
       "      <td>0.986557</td>\n",
       "    </tr>\n",
       "    <tr>\n",
       "      <td>9</td>\n",
       "      <td>0.000000</td>\n",
       "      <td>0.145568</td>\n",
       "      <td>0.986184</td>\n",
       "    </tr>\n",
       "    <tr>\n",
       "      <td>10</td>\n",
       "      <td>0.000500</td>\n",
       "      <td>0.150888</td>\n",
       "      <td>0.986184</td>\n",
       "    </tr>\n",
       "  </tbody>\n",
       "</table><p>"
      ],
      "text/plain": [
       "<IPython.core.display.HTML object>"
      ]
     },
     "metadata": {},
     "output_type": "display_data"
    },
    {
     "data": {
      "text/plain": [
       "TrainOutput(global_step=13390, training_loss=0.0289770239227555, metrics={'train_runtime': 374849.0548, 'train_samples_per_second': 0.286, 'train_steps_per_second': 0.036, 'total_flos': 9.982882493915136e+16, 'train_loss': 0.0289770239227555, 'epoch': 10.0})"
      ]
     },
     "execution_count": 15,
     "metadata": {},
     "output_type": "execute_result"
    }
   ],
   "source": [
    "# Define os parâmetros do treinamento do modelo\n",
    "training_args = TrainingArguments(\n",
    "    output_dir=\"model_128tokens\", # Diretório onde os modelos treinados serão salvos\n",
    "    learning_rate=2e-5, # Taxa de aprendizado para otimização do modelo\n",
    "    per_device_train_batch_size=8, # Tamanho do batch de treinamento por GPU/CPU\n",
    "    per_device_eval_batch_size=8, # Tamanho do batch de avaliação por GPU/CPU\n",
    "    num_train_epochs=10,  # Número de épocas de treinamento (quantas vezes o modelo verá todo o conjunto de dados)\n",
    "    weight_decay=0.01, # Decaimento de peso para regularização e evitar overfitting\n",
    "    eval_strategy=\"epoch\", # Avaliação será feita ao final de cada época\n",
    "    save_strategy=\"epoch\", # Salvará o modelo ao final de cada época\n",
    "    load_best_model_at_end=True, # Carrega o melhor modelo baseado na métrica de avaliação ao final do treinamento\n",
    "    metric_for_best_model=\"accuracy\", # Define que o melhor modelo será selecionado com base na maior acurácia obtida durante as avaliações.\n",
    "    save_total_limit=2, # Mantém apenas os dois checkpoints mais recentes (ou melhores) no disco, economizando espaço de armazenamento.\n",
    "    # push_to_hub=True,  # (Comentado) Caso ativado, envia o modelo para o Hugging Face Hub automaticamente\n",
    ")\n",
    "\n",
    "# Criação do Trainer, responsável pelo treinamento do modelo\n",
    "trainer = Trainer(\n",
    "    model=model,  # Modelo carregado anteriormente\n",
    "    args=training_args,  # Argumentos de treinamento definidos acima\n",
    "    train_dataset=tokenized_dataset[\"train\"],  # Conjunto de treinamento tokenizado\n",
    "    eval_dataset=tokenized_dataset[\"test\"],  # Conjunto de teste tokenizado\n",
    "    processing_class=tokenizer,  # Define o tokenizador para ser usado pelo Trainer \n",
    "    data_collator=data_collator,  # Gerencia o padding dos inputs para que fiquem no mesmo tamanho\n",
    "    compute_metrics=compute_metrics,  # Função que calcula as métricas de avaliação do modelo\n",
    ")\n",
    "\n",
    "# Inicia o treinamento do modelo\n",
    "trainer.train()"
   ]
  },
  {
   "cell_type": "code",
   "execution_count": 16,
   "metadata": {},
   "outputs": [
    {
     "data": {
      "text/html": [],
      "text/plain": [
       "<IPython.core.display.HTML object>"
      ]
     },
     "metadata": {},
     "output_type": "display_data"
    },
    {
     "name": "stdout",
     "output_type": "stream",
     "text": [
      "Accuracy: 0.9866\n",
      "              precision    recall  f1-score   support\n",
      "\n",
      "        FATO       0.98      0.98      0.98       889\n",
      "        TESE       0.98      0.98      0.98       898\n",
      "       RUIDO       1.00      1.00      1.00       891\n",
      "\n",
      "    accuracy                           0.99      2678\n",
      "   macro avg       0.99      0.99      0.99      2678\n",
      "weighted avg       0.99      0.99      0.99      2678\n",
      "\n"
     ]
    }
   ],
   "source": [
    "# Obtém as previsões do modelo no conjunto de teste\n",
    "predictions = trainer.predict(tokenized_dataset[\"test\"])\n",
    "\n",
    "# Extrai os logits (saída bruta do modelo antes da ativação softmax)\n",
    "logits = predictions.predictions\n",
    "\n",
    "# Converte os logits para rótulos preditos (classe com maior probabilidade)\n",
    "preds = np.argmax(logits, axis=1)\n",
    "\n",
    "# Converte os rótulos reais para numpy array\n",
    "labels = np.array(tokenized_dataset[\"test\"]['label'])\n",
    "\n",
    "# Calcula a acurácia\n",
    "accuracy = accuracy_score(labels, preds)\n",
    "\n",
    "# Define os nomes das classes a partir do dicionário label2id\n",
    "label_names = list(label2id.keys())\n",
    "\n",
    "# Exibe os resultados\n",
    "print(f'Accuracy: {accuracy:.4f}')\n",
    "print(classification_report(labels, preds, target_names=label_names))"
   ]
  }
 ],
 "metadata": {
  "kernelspec": {
   "display_name": "Python 3",
   "language": "python",
   "name": "python3"
  },
  "language_info": {
   "codemirror_mode": {
    "name": "ipython",
    "version": 3
   },
   "file_extension": ".py",
   "mimetype": "text/x-python",
   "name": "python",
   "nbconvert_exporter": "python",
   "pygments_lexer": "ipython3",
   "version": "3.13.2"
  }
 },
 "nbformat": 4,
 "nbformat_minor": 2
}
